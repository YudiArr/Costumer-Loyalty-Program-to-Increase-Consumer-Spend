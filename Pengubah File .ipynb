{
 "cells": [
  {
   "cell_type": "code",
   "execution_count": 1,
   "id": "13226dc3-193e-4fe5-9650-4f302944c103",
   "metadata": {
    "execution": {
     "iopub.execute_input": "2024-06-15T01:50:19.033613Z",
     "iopub.status.busy": "2024-06-15T01:50:19.033613Z",
     "iopub.status.idle": "2024-06-15T01:52:16.960719Z",
     "shell.execute_reply": "2024-06-15T01:52:16.959775Z",
     "shell.execute_reply.started": "2024-06-15T01:50:19.033613Z"
    }
   },
   "outputs": [
    {
     "name": "stdout",
     "output_type": "stream",
     "text": [
      "files has been saved\n"
     ]
    }
   ],
   "source": [
    "import pandas as pd\n",
    "\n",
    "industry = pd.read_csv('CustomerLoyaltyProgram.csv')\n",
    "data_read = pd.DataFrame(industry)\n",
    "data_read = data_read.dropna(axis=1 , how='all')\n",
    "\n",
    "PL_File = 'costumer_loyalty.xlsx'\n",
    "data_read.to_excel(PL_File, index=False)\n",
    "print('files has been saved')"
   ]
  },
  {
   "cell_type": "code",
   "execution_count": null,
   "id": "92459a2d-d913-491d-b005-5ec6c3ace54f",
   "metadata": {},
   "outputs": [],
   "source": []
  },
  {
   "cell_type": "code",
   "execution_count": null,
   "id": "6721e6c4-14d3-4435-aff3-c5c1d48f3627",
   "metadata": {},
   "outputs": [],
   "source": []
  }
 ],
 "metadata": {
  "kernelspec": {
   "display_name": "Python 3 (ipykernel)",
   "language": "python",
   "name": "python3"
  },
  "language_info": {
   "codemirror_mode": {
    "name": "ipython",
    "version": 3
   },
   "file_extension": ".py",
   "mimetype": "text/x-python",
   "name": "python",
   "nbconvert_exporter": "python",
   "pygments_lexer": "ipython3",
   "version": "3.8.2"
  }
 },
 "nbformat": 4,
 "nbformat_minor": 5
}
